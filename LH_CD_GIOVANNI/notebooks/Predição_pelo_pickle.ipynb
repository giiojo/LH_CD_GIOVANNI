{
 "cells": [
  {
   "cell_type": "code",
   "execution_count": 1,
   "metadata": {},
   "outputs": [
    {
     "name": "stdout",
     "output_type": "stream",
     "text": [
      "Modelo, scaler e encoder carregados!\n",
      "Preço previsto: $154.80\n"
     ]
    }
   ],
   "source": [
    "import pickle\n",
    "import pandas as pd\n",
    "from geopy.distance import geodesic\n",
    "\n",
    "with open(\"..\\\\models\\\\modelo_lightgbm.pkl\", \"rb\") as model_file:\n",
    "    model = pickle.load(model_file)\n",
    "\n",
    "with open(\"..\\\\models\\\\scaler.pkl\", \"rb\") as scaler_file:\n",
    "    scaler = pickle.load(scaler_file)\n",
    "\n",
    "with open(\"..\\\\models\\\\encoder.pkl\", \"rb\") as encoder_file:\n",
    "    encoder = pickle.load(encoder_file)\n",
    "\n",
    "print(\"Modelo, scaler e encoder carregados!\")\n",
    "\n",
    "dados_teste = pd.DataFrame([{\n",
    "    \"latitude\": 40.75362,\n",
    "    \"longitude\": -73.98377,\n",
    "    \"bairro_group\": \"Manhattan\",\n",
    "    \"room_type\": \"Entire home/apt\",\n",
    "    \"minimo_noites\": 1,\n",
    "    \"numero_de_reviews\": 45,\n",
    "    \"disponibilidade_365\": 355,\n",
    "    \"calculado_host_listings_count\": 2\n",
    "}])\n",
    "\n",
    "# Precisamos calcular a distância até o centro e adicionar ao dataframe\n",
    "centro = (40.7580, -73.9855)\n",
    "dados_teste[\"distancia_centro\"] = geodesic((dados_teste[\"latitude\"].values[0], dados_teste[\"longitude\"].values[0]), centro).km\n",
    "\n",
    "# Além disso precisamos aplicar o scaler também e o one-hot-encoding\n",
    "num_features = [\"latitude\", \"longitude\", \"distancia_centro\", \"minimo_noites\"]\n",
    "dados_teste[num_features] = scaler.transform(dados_teste[num_features])  # Usar o scaler treinado\n",
    "dados_categ_encoded = encoder.transform(dados_teste[[\"bairro_group\", \"room_type\"]])\n",
    "dados_teste_final = pd.concat(\n",
    "    [\n",
    "        dados_teste[num_features].reset_index(drop=True),\n",
    "        pd.DataFrame(dados_categ_encoded, columns=encoder.get_feature_names_out()),\n",
    "    ],\n",
    "    axis=1,\n",
    ")\n",
    "\n",
    "#Com o dataframe pronto basta passar para o modelo prever\n",
    "preco_previsto = model.predict(dados_teste_final)\n",
    "\n",
    "print(f\"Preço previsto: ${preco_previsto[0]:.2f}\")"
   ]
  }
 ],
 "metadata": {
  "kernelspec": {
   "display_name": ".libs",
   "language": "python",
   "name": "python3"
  },
  "language_info": {
   "codemirror_mode": {
    "name": "ipython",
    "version": 3
   },
   "file_extension": ".py",
   "mimetype": "text/x-python",
   "name": "python",
   "nbconvert_exporter": "python",
   "pygments_lexer": "ipython3",
   "version": "3.12.9"
  }
 },
 "nbformat": 4,
 "nbformat_minor": 2
}
