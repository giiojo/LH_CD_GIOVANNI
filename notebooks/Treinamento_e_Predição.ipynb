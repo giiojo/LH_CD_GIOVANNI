{
  "cells": [
    {
      "cell_type": "markdown",
      "metadata": {
        "id": "aOJgyt2BBkoe"
      },
      "source": [
        "Desafio [Lighthouse] Desafio Ciência de Dados 2025-3. Neste notebook vamos ler um arquivo csv no Pandas e criar um modelo de regressão para prever o preço de um imóvel com base nos dados que foram fornecidos.\n",
        "O notebook foi feito originalmente no Google Colab, recomendo este ambiente.\n",
        "\n",
        "Antes de começar, inicie a instância do colab e faça upload do arquivo _teste_indicium_precificacao.csv_"
      ]
    },
    {
      "cell_type": "markdown",
      "metadata": {
        "id": "71Gcc10YuBXk"
      },
      "source": [
        "Testei alguns modelos para resolver esse problema. Porém, o que apresentou o menor erro médio (RMSE e MAPE) foi o regressor lightgbm."
      ]
    },
    {
      "cell_type": "code",
      "execution_count": 3,
      "metadata": {
        "colab": {
          "base_uri": "https://localhost:8080/",
          "height": 417
        },
        "collapsed": true,
        "id": "Vz1CCPklBdnH",
        "outputId": "20dabd3a-c207-4c39-b2ff-9c7370a0a68b"
      },
      "outputs": [
        {
          "data": {
            "text/html": [
              "<div>\n",
              "<style scoped>\n",
              "    .dataframe tbody tr th:only-of-type {\n",
              "        vertical-align: middle;\n",
              "    }\n",
              "\n",
              "    .dataframe tbody tr th {\n",
              "        vertical-align: top;\n",
              "    }\n",
              "\n",
              "    .dataframe thead th {\n",
              "        text-align: right;\n",
              "    }\n",
              "</style>\n",
              "<table border=\"1\" class=\"dataframe\">\n",
              "  <thead>\n",
              "    <tr style=\"text-align: right;\">\n",
              "      <th></th>\n",
              "      <th>id</th>\n",
              "      <th>nome</th>\n",
              "      <th>host_id</th>\n",
              "      <th>host_name</th>\n",
              "      <th>bairro_group</th>\n",
              "      <th>bairro</th>\n",
              "      <th>latitude</th>\n",
              "      <th>longitude</th>\n",
              "      <th>room_type</th>\n",
              "      <th>price</th>\n",
              "      <th>minimo_noites</th>\n",
              "      <th>numero_de_reviews</th>\n",
              "      <th>ultima_review</th>\n",
              "      <th>reviews_por_mes</th>\n",
              "      <th>calculado_host_listings_count</th>\n",
              "      <th>disponibilidade_365</th>\n",
              "    </tr>\n",
              "  </thead>\n",
              "  <tbody>\n",
              "    <tr>\n",
              "      <th>0</th>\n",
              "      <td>2595</td>\n",
              "      <td>Skylit Midtown Castle</td>\n",
              "      <td>2845</td>\n",
              "      <td>Jennifer</td>\n",
              "      <td>Manhattan</td>\n",
              "      <td>Midtown</td>\n",
              "      <td>40.75362</td>\n",
              "      <td>-73.98377</td>\n",
              "      <td>Entire home/apt</td>\n",
              "      <td>225</td>\n",
              "      <td>1</td>\n",
              "      <td>45</td>\n",
              "      <td>2019-05-21</td>\n",
              "      <td>0.38</td>\n",
              "      <td>2</td>\n",
              "      <td>355</td>\n",
              "    </tr>\n",
              "    <tr>\n",
              "      <th>1</th>\n",
              "      <td>3647</td>\n",
              "      <td>THE VILLAGE OF HARLEM....NEW YORK !</td>\n",
              "      <td>4632</td>\n",
              "      <td>Elisabeth</td>\n",
              "      <td>Manhattan</td>\n",
              "      <td>Harlem</td>\n",
              "      <td>40.80902</td>\n",
              "      <td>-73.94190</td>\n",
              "      <td>Private room</td>\n",
              "      <td>150</td>\n",
              "      <td>3</td>\n",
              "      <td>0</td>\n",
              "      <td>NaN</td>\n",
              "      <td>NaN</td>\n",
              "      <td>1</td>\n",
              "      <td>365</td>\n",
              "    </tr>\n",
              "    <tr>\n",
              "      <th>2</th>\n",
              "      <td>3831</td>\n",
              "      <td>Cozy Entire Floor of Brownstone</td>\n",
              "      <td>4869</td>\n",
              "      <td>LisaRoxanne</td>\n",
              "      <td>Brooklyn</td>\n",
              "      <td>Clinton Hill</td>\n",
              "      <td>40.68514</td>\n",
              "      <td>-73.95976</td>\n",
              "      <td>Entire home/apt</td>\n",
              "      <td>89</td>\n",
              "      <td>1</td>\n",
              "      <td>270</td>\n",
              "      <td>2019-07-05</td>\n",
              "      <td>4.64</td>\n",
              "      <td>1</td>\n",
              "      <td>194</td>\n",
              "    </tr>\n",
              "    <tr>\n",
              "      <th>3</th>\n",
              "      <td>5022</td>\n",
              "      <td>Entire Apt: Spacious Studio/Loft by central park</td>\n",
              "      <td>7192</td>\n",
              "      <td>Laura</td>\n",
              "      <td>Manhattan</td>\n",
              "      <td>East Harlem</td>\n",
              "      <td>40.79851</td>\n",
              "      <td>-73.94399</td>\n",
              "      <td>Entire home/apt</td>\n",
              "      <td>80</td>\n",
              "      <td>10</td>\n",
              "      <td>9</td>\n",
              "      <td>2018-11-19</td>\n",
              "      <td>0.10</td>\n",
              "      <td>1</td>\n",
              "      <td>0</td>\n",
              "    </tr>\n",
              "    <tr>\n",
              "      <th>4</th>\n",
              "      <td>5099</td>\n",
              "      <td>Large Cozy 1 BR Apartment In Midtown East</td>\n",
              "      <td>7322</td>\n",
              "      <td>Chris</td>\n",
              "      <td>Manhattan</td>\n",
              "      <td>Murray Hill</td>\n",
              "      <td>40.74767</td>\n",
              "      <td>-73.97500</td>\n",
              "      <td>Entire home/apt</td>\n",
              "      <td>200</td>\n",
              "      <td>3</td>\n",
              "      <td>74</td>\n",
              "      <td>2019-06-22</td>\n",
              "      <td>0.59</td>\n",
              "      <td>1</td>\n",
              "      <td>129</td>\n",
              "    </tr>\n",
              "  </tbody>\n",
              "</table>\n",
              "</div>"
            ],
            "text/plain": [
              "     id                                              nome  host_id  \\\n",
              "0  2595                             Skylit Midtown Castle     2845   \n",
              "1  3647               THE VILLAGE OF HARLEM....NEW YORK !     4632   \n",
              "2  3831                   Cozy Entire Floor of Brownstone     4869   \n",
              "3  5022  Entire Apt: Spacious Studio/Loft by central park     7192   \n",
              "4  5099         Large Cozy 1 BR Apartment In Midtown East     7322   \n",
              "\n",
              "     host_name bairro_group        bairro  latitude  longitude  \\\n",
              "0     Jennifer    Manhattan       Midtown  40.75362  -73.98377   \n",
              "1    Elisabeth    Manhattan        Harlem  40.80902  -73.94190   \n",
              "2  LisaRoxanne     Brooklyn  Clinton Hill  40.68514  -73.95976   \n",
              "3        Laura    Manhattan   East Harlem  40.79851  -73.94399   \n",
              "4        Chris    Manhattan   Murray Hill  40.74767  -73.97500   \n",
              "\n",
              "         room_type  price  minimo_noites  numero_de_reviews ultima_review  \\\n",
              "0  Entire home/apt    225              1                 45    2019-05-21   \n",
              "1     Private room    150              3                  0           NaN   \n",
              "2  Entire home/apt     89              1                270    2019-07-05   \n",
              "3  Entire home/apt     80             10                  9    2018-11-19   \n",
              "4  Entire home/apt    200              3                 74    2019-06-22   \n",
              "\n",
              "   reviews_por_mes  calculado_host_listings_count  disponibilidade_365  \n",
              "0             0.38                              2                  355  \n",
              "1              NaN                              1                  365  \n",
              "2             4.64                              1                  194  \n",
              "3             0.10                              1                    0  \n",
              "4             0.59                              1                  129  "
            ]
          },
          "execution_count": 3,
          "metadata": {},
          "output_type": "execute_result"
        }
      ],
      "source": [
        "import pandas as pd\n",
        "df = pd.read_csv('..\\\\data\\\\teste_indicium_precificacao.csv')\n",
        "df.head()"
      ]
    },
    {
      "cell_type": "markdown",
      "metadata": {
        "id": "M7VAgNSuvMUS"
      },
      "source": [
        "Com nosso dataframe devidamente lido, podemos seguir importando as bibliotecas necessárias e configurando as features que usaremos em nosso modelo.\n",
        "\n",
        "Nem todas as colunas foram utilizadas como features pois algumas não tinham correlação em termos de negócio (como o número de avaliações que não diretamente impactam o preço, e sim o oposto) e também apresentavam um coeficiente de correlação de Pearson fraco (o que é o caso para algumas features usadas, mas que haviam uma relação indireta como visto na análise exploratória, como minimo_noites, que conforme o minimo_noites aumenta, a tendência era o valor diminuir.)"
      ]
    },
    {
      "cell_type": "code",
      "execution_count": 4,
      "metadata": {
        "id": "osc72Rw8PXY1"
      },
      "outputs": [],
      "source": [
        "#Aqui importamos as bibliotecas necessárias\n",
        "import pandas as pd\n",
        "import numpy as np\n",
        "from geopy.distance import geodesic\n",
        "from sklearn.model_selection import train_test_split\n",
        "from sklearn.preprocessing import StandardScaler, OneHotEncoder\n",
        "from sklearn.metrics import mean_squared_error, mean_absolute_percentage_error\n",
        "#from sklearn.ensemble import RandomForestRegressor Comentado pois foi o teste inicial e não está sendo mais usado\n",
        "\n",
        "#Usei esse valor aqui pois fica bem no centro de nova Iorque (Times Square)\n",
        "centro = (40.7580, -73.9855)\n",
        "\n",
        "#Definimos as Features\n",
        "features = df[[\"latitude\", \"longitude\", \"bairro\", \"room_type\", \"bairro_group\", \"minimo_noites\"]]\n",
        "target = df[\"price\"]\n",
        "\n",
        "#Remoção de Outliers\n",
        "#Essa remoção de Outliers foi agressiva, mas apresentou ótimos resultados em termos de precisão do modelo.\n",
        "lower_bound = target.quantile(0.20)\n",
        "upper_bound = target.quantile(0.80)\n",
        "\n",
        "mask = (target >= lower_bound) & (target <= upper_bound)\n",
        "features = features[mask]\n",
        "target = target[mask]\n",
        "\n",
        "#Aqui adicionamos a coluna distancia centro que é um dado adicional útil para o modelo\n",
        "features[\"distancia_centro\"] = features.apply(lambda row: geodesic((row[\"latitude\"], row[\"longitude\"]), centro).km, axis=1)\n",
        "\n",
        "# Remove valores nulos\n",
        "features = features.dropna()\n",
        "target = target.loc[features.index]\n",
        "\n",
        "# Separando as variáveis numéricas e categóricas\n",
        "num_features = [\"latitude\", \"longitude\", \"distancia_centro\", \"minimo_noites\"]\n",
        "cat_features = [\"bairro_group\", \"room_type\"]\n",
        "\n",
        "#Aqui fazemos escalonamento nas variáveis numéricas para tornalas comparáveis\n",
        "scaler = StandardScaler()\n",
        "features[num_features] = scaler.fit_transform(features[num_features])\n",
        "\n",
        "# Encodamos as variáveis categóricas com One-Hot Encoding para que o modelo possa usufruir\n",
        "encoder = OneHotEncoder(handle_unknown=\"ignore\", sparse_output=False)\n",
        "features_encoded = encoder.fit_transform(features[cat_features])\n",
        "\n",
        "# Agora temos um dataframe final que combina todas as features\n",
        "features_final = pd.concat(\n",
        "    [\n",
        "        features[num_features].reset_index(drop=True),\n",
        "        pd.DataFrame(features_encoded, columns=encoder.get_feature_names_out()),\n",
        "    ],\n",
        "    axis=1,\n",
        ")\n",
        "\n",
        "# Dividimos em treino e teste (90% treino, 10% teste)\n",
        "X_train, X_test, y_train, y_test = train_test_split(features_final, target, test_size=0.1, random_state=42)"
      ]
    },
    {
      "cell_type": "code",
      "execution_count": 5,
      "metadata": {
        "colab": {
          "base_uri": "https://localhost:8080/"
        },
        "id": "L44W7UfAdQFx",
        "outputId": "042cdf50-e7ad-4a5a-82d3-2ff985943409"
      },
      "outputs": [
        {
          "data": {
            "text/plain": [
              "np.float64(116.82084312803636)"
            ]
          },
          "execution_count": 5,
          "metadata": {},
          "output_type": "execute_result"
        }
      ],
      "source": [
        "target.mean()"
      ]
    },
    {
      "cell_type": "markdown",
      "metadata": {
        "id": "6jnv8s-ge1n3"
      },
      "source": [
        "Aqui aplicamos o LIGHTGBM Regressor para treinar nosso modelo"
      ]
    },
    {
      "cell_type": "code",
      "execution_count": 6,
      "metadata": {
        "colab": {
          "base_uri": "https://localhost:8080/"
        },
        "id": "T7ljCtEKe0mJ",
        "outputId": "6a22590a-5165-432a-c6f0-f4dc3592aa36"
      },
      "outputs": [
        {
          "name": "stdout",
          "output_type": "stream",
          "text": [
            "[LightGBM] [Warning] Found whitespace in feature_names, replace with underlines\n",
            "[LightGBM] [Info] Auto-choosing row-wise multi-threading, the overhead of testing was 0.000336 seconds.\n",
            "You can set `force_row_wise=true` to remove the overhead.\n",
            "And if memory is not enough, you can set `force_col_wise=true`.\n",
            "[LightGBM] [Info] Total Bins 845\n",
            "[LightGBM] [Info] Number of data points in the train set: 28714, number of used features: 12\n",
            "[LightGBM] [Info] Start training from score 116.873233\n"
          ]
        },
        {
          "data": {
            "text/plain": [
              "(np.float64(31.268504921322968), 0.22339495175701424)"
            ]
          },
          "execution_count": 6,
          "metadata": {},
          "output_type": "execute_result"
        }
      ],
      "source": [
        "from lightgbm import LGBMRegressor\n",
        "\n",
        "#Encontrei um ponto ótimo em 5000 estimators e uma learning_rate de 0.005\n",
        "model = LGBMRegressor(n_estimators=5000, learning_rate=0.005, max_depth=20, random_state=42)\n",
        "model.fit(X_train, y_train)\n",
        "\n",
        "# Fazemos previsões e calculamos o erro\n",
        "y_pred = model.predict(X_test)\n",
        "rmse = np.sqrt(mean_squared_error(y_test, y_pred))\n",
        "mape = mean_absolute_percentage_error(y_test, y_pred)\n",
        "\n",
        "rmse, mape"
      ]
    },
    {
      "cell_type": "markdown",
      "metadata": {
        "id": "eBhDAmesxxMY"
      },
      "source": [
        "Com o modelo pronto podemos fazer a predição do objeto passado no e-mail"
      ]
    },
    {
      "cell_type": "code",
      "execution_count": 7,
      "metadata": {
        "colab": {
          "base_uri": "https://localhost:8080/"
        },
        "id": "nBF_RdeHqXcv",
        "outputId": "d78ad2ff-a539-440d-ebea-1e9489a4dd7b"
      },
      "outputs": [
        {
          "name": "stdout",
          "output_type": "stream",
          "text": [
            "Preço previsto: $154.80\n"
          ]
        }
      ],
      "source": [
        "# Criar DataFrame para a nova predição\n",
        "dados_teste = pd.DataFrame([{\n",
        "    \"latitude\": 40.75362,\n",
        "    \"longitude\": -73.98377,\n",
        "    \"bairro_group\": \"Manhattan\",\n",
        "    \"room_type\": \"Entire home/apt\",\n",
        "    \"minimo_noites\": 1,\n",
        "    \"numero_de_reviews\": 45,\n",
        "    \"disponibilidade_365\": 355,\n",
        "    \"calculado_host_listings_count\": 2\n",
        "}])\n",
        "\n",
        "# Precisamos calcular a distância até o centro e adicionar ao dataframe\n",
        "centro = (40.7580, -73.9855)\n",
        "dados_teste[\"distancia_centro\"] = geodesic((dados_teste[\"latitude\"].values[0], dados_teste[\"longitude\"].values[0]), centro).km\n",
        "\n",
        "# Além disso precisamos aplicar o scaler também e o one-hot-encoding\n",
        "num_features = [\"latitude\", \"longitude\", \"distancia_centro\", \"minimo_noites\"]\n",
        "dados_teste[num_features] = scaler.transform(dados_teste[num_features])  # Usar o scaler treinado\n",
        "dados_categ_encoded = encoder.transform(dados_teste[[\"bairro_group\", \"room_type\"]])\n",
        "dados_teste_final = pd.concat(\n",
        "    [\n",
        "        dados_teste[num_features].reset_index(drop=True),\n",
        "        pd.DataFrame(dados_categ_encoded, columns=encoder.get_feature_names_out()),\n",
        "    ],\n",
        "    axis=1,\n",
        ")\n",
        "\n",
        "#Com o dataframe pronto basta passar para o modelo prever\n",
        "preco_previsto = model.predict(dados_teste_final)\n",
        "\n",
        "print(f\"Preço previsto: ${preco_previsto[0]:.2f}\")\n"
      ]
    },
    {
      "cell_type": "markdown",
      "metadata": {
        "id": "Az9DqZTEyUGw"
      },
      "source": [
        "Ótimo, o preço previsto foi de $154.80 agora podemos exportar nosso modelo usando pickle"
      ]
    },
    {
      "cell_type": "code",
      "execution_count": 8,
      "metadata": {
        "colab": {
          "base_uri": "https://localhost:8080/"
        },
        "id": "PRh440D9q28A",
        "outputId": "44cfe8ec-05ab-4cec-b1e5-df5ca9b0698b"
      },
      "outputs": [
        {
          "name": "stdout",
          "output_type": "stream",
          "text": [
            "Modelo, scaler e encoder salvos\n"
          ]
        }
      ],
      "source": [
        "import pickle\n",
        "\n",
        "with open(\"modelo_lightgbm.pkl\", \"wb\") as model_file:\n",
        "    pickle.dump(model, model_file)\n",
        "\n",
        "with open(\"scaler.pkl\", \"wb\") as scaler_file:\n",
        "    pickle.dump(scaler, scaler_file)\n",
        "\n",
        "with open(\"encoder.pkl\", \"wb\") as encoder_file:\n",
        "    pickle.dump(encoder, encoder_file)\n",
        "\n",
        "print(\"Modelo, scaler e encoder salvos\")\n"
      ]
    },
    {
      "cell_type": "markdown",
      "metadata": {
        "id": "Fca-CrTwyzEA"
      },
      "source": [
        "Com tudo isso pronto é só baixar os arquivos .pkl "
      ]
    }
  ],
  "metadata": {
    "colab": {
      "provenance": []
    },
    "kernelspec": {
      "display_name": ".libs",
      "language": "python",
      "name": "python3"
    },
    "language_info": {
      "codemirror_mode": {
        "name": "ipython",
        "version": 3
      },
      "file_extension": ".py",
      "mimetype": "text/x-python",
      "name": "python",
      "nbconvert_exporter": "python",
      "pygments_lexer": "ipython3",
      "version": "3.12.9"
    }
  },
  "nbformat": 4,
  "nbformat_minor": 0
}
